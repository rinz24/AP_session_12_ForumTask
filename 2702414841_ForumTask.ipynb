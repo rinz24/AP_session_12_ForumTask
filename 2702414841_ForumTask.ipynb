{
 "cells": [
  {
   "cell_type": "markdown",
   "metadata": {},
   "source": [
    "# Forum Task 1\n"
   ]
  },
  {
   "cell_type": "code",
   "execution_count": 2,
   "metadata": {},
   "outputs": [
    {
     "name": "stdout",
     "output_type": "stream",
     "text": [
      "Name: Lloyd\n",
      "Homework: [90.0, 97.0, 75.0, 92.0]\n",
      "Quizzes: [88.0, 40.0, 94.0]\n",
      "Tests: [75.0, 90.0]\n",
      "Average: 82.33333333333333\n",
      "Weighted Average: 80.55\n",
      "Letter Grade: B\n",
      "\n",
      "Name: Alice\n",
      "Homework: [100.0, 92.0, 98.0, 100.0]\n",
      "Quizzes: [82.0, 83.0, 91.0]\n",
      "Tests: [89.0, 97.0]\n",
      "Average: 92.44444444444444\n",
      "Weighted Average: 91.14999999999999\n",
      "Letter Grade: A\n",
      "\n",
      "Name: Tyler\n",
      "Homework: [0.0, 87.0, 75.0, 22.0]\n",
      "Quizzes: [0.0, 75.0, 78.0]\n",
      "Tests: [100.0, 100.0]\n",
      "Average: 59.666666666666664\n",
      "Weighted Average: 79.9\n",
      "Letter Grade: C\n",
      "\n",
      "Class Average: 83.86666666666666\n",
      "Class Letter Grade: B\n"
     ]
    }
   ],
   "source": [
    "lloyd = {\n",
    " \"name\": \"Lloyd\",\n",
    " \"homework\": [90.0,97.0,75.0,92.0],\n",
    " \"quizzes\": [88.0,40.0,94.0],\n",
    " \"tests\": [75.0,90.0]\n",
    "}\n",
    "alice = {\n",
    " \"name\": \"Alice\",\n",
    " \"homework\": [100.0, 92.0, 98.0, 100.0],\n",
    " \"quizzes\": [82.0, 83.0, 91.0],\n",
    " \"tests\": [89.0, 97.0]\n",
    "}\n",
    "tyler = {\n",
    " \"name\": \"Tyler\",\n",
    " \"homework\": [0.0, 87.0, 75.0, 22.0],\n",
    " \"quizzes\": [0.0, 75.0, 78.0],\n",
    " \"tests\": [100.0, 100.0]\n",
    "}\n",
    "\n",
    "# list of students name\n",
    "students = [lloyd, alice, tyler]\n",
    "\n",
    "# Function to calculate the average of a list of numbers (same as before)\n",
    "def average(numbers):\n",
    "    total = sum(numbers)\n",
    "    total = float(total)\n",
    "    return total / len(numbers)\n",
    "\n",
    "# Function to calculate the weighted average of a student's scores\n",
    "def get_average(student):\n",
    "    homework = average(student[\"homework\"])\n",
    "    quizzes = average(student[\"quizzes\"])\n",
    "    tests = average(student[\"tests\"])\n",
    "    \n",
    "    # Calculate the weighted average\n",
    "    weighted_average = (homework * 0.1) + (quizzes * 0.3) + (tests * 0.6)\n",
    "    \n",
    "    return weighted_average\n",
    "\n",
    "# Function to get letter grade based on the score\n",
    "def get_letter_grade(score):\n",
    "    if score >= 90:\n",
    "        return \"A\"\n",
    "    elif score >= 80:\n",
    "        return \"B\"\n",
    "    elif score >= 70:\n",
    "        return \"C\"\n",
    "    elif score >= 60:\n",
    "        return \"D\"\n",
    "    else:\n",
    "        return \"F\"\n",
    "\n",
    "# Function to get the class average\n",
    "def get_class_average(students):\n",
    "    results = []\n",
    "    for student in students:\n",
    "        student_avg = get_average(student)\n",
    "        results.append(student_avg)\n",
    "    return average(results)\n",
    "\n",
    "# Iterate through the students list and print each student's data (same as before)\n",
    "for student in students:\n",
    "    print(\"Name:\", student[\"name\"])\n",
    "    print(\"Homework:\", student[\"homework\"])\n",
    "    print(\"Quizzes:\", student[\"quizzes\"])\n",
    "    print(\"Tests:\", student[\"tests\"])\n",
    "    print(\"Average:\", average(student[\"homework\"] + student[\"quizzes\"] + student[\"tests\"]))\n",
    "    print(\"Weighted Average:\", get_average(student))\n",
    "    print(\"Letter Grade:\", get_letter_grade(get_average(student)))\n",
    "    print()  # Add an empty line for separation between students\n",
    "\n",
    "# Calculate and print the class average\n",
    "class_average = get_class_average(students)\n",
    "print(\"Class Average:\", class_average)\n",
    "\n",
    "# Get and print the letter grade for the class average\n",
    "class_letter_grade = get_letter_grade(class_average)\n",
    "print(\"Class Letter Grade:\", class_letter_grade)\n"
   ]
  },
  {
   "cell_type": "markdown",
   "metadata": {},
   "source": [
    "# Forum Task 2"
   ]
  },
  {
   "cell_type": "code",
   "execution_count": 3,
   "metadata": {},
   "outputs": [
    {
     "name": "stdout",
     "output_type": "stream",
     "text": [
      "The course details are:\n",
      "Course Name: \tCalculus I\n",
      "Instructor: \tA. Makaryus\n",
      "Class Times: \tMW 9:30am - 10:45am\n"
     ]
    }
   ],
   "source": [
    "# Create a tuple of course numbers\n",
    "course_numbers = (\"COP 2510\", \"EGN 3000L\", \"MAC 2281\", \"MUH 3016\", \"PHY 2048\")\n",
    "\n",
    "course_names = {\n",
    "    course_numbers[0]: \"Programming Concepts\",\n",
    "    course_numbers[1]: \"Foundations of Engineering Lab\",\n",
    "    course_numbers[2]: \"Calculus I\",\n",
    "    course_numbers[3]: \"Survey of Jazz\",\n",
    "    course_numbers[4]: \"General Physics I\",\n",
    "}\n",
    "course_instructors = {\n",
    "    course_numbers[0]: \"Z. Beasley\",\n",
    "    course_numbers[1]: \"J. Anderson\",\n",
    "    course_numbers[2]: \"A. Makaryus\",\n",
    "    course_numbers[3]: \"A. Wilkins\",\n",
    "    course_numbers[4]: \"G. Pradhan\",\n",
    "}\n",
    "\n",
    "course_classtime = {\n",
    "    course_numbers[0]: \"MW 12:30pm - 1:45pm\",\n",
    "    course_numbers[1]: \"TR 11:00am - 12:15pm\",\n",
    "    course_numbers[2]: \"MW 9:30am - 10:45am\",\n",
    "    course_numbers[3]: \"online asynchronous\",\n",
    "    course_numbers[4]: \"TR 5:00pm - 6:15pm\",\n",
    "}\n",
    "\n",
    "# User input for course number\n",
    "course_num = input(\"Enter a course number: \")\n",
    "\n",
    "# Check if the course number exists in the dictionaries\n",
    "if course_num in course_names:\n",
    "    print(\"The course details are:\")\n",
    "    print(f\"Course Name: \\t{course_names[course_num]}\")\n",
    "    print(f\"Instructor: \\t{course_instructors[course_num]}\")\n",
    "    print(f\"Class Times: \\t{course_classtime[course_num]}\")\n",
    "else:\n",
    "    print(course_num, \"is an invalid course number.\")"
   ]
  },
  {
   "cell_type": "markdown",
   "metadata": {},
   "source": [
    "# Forum Task 3"
   ]
  },
  {
   "cell_type": "code",
   "execution_count": 4,
   "metadata": {},
   "outputs": [
    {
     "name": "stdout",
     "output_type": "stream",
     "text": [
      "The total sales is: $17,230.00\n",
      "The minimum sale amount was: $200.00\n",
      "The maximum sale amount was: $10,000.00\n"
     ]
    }
   ],
   "source": [
    "# Create a tuple for the days of the week\n",
    "days_of_week = (\"Sunday\", \"Monday\", \"Tuesday\", \"Wednesday\", \"Thursday\", \"Friday\", \"Saturday\")\n",
    "\n",
    "# Initialize an empty list to store daily sales\n",
    "weekly_sales = []\n",
    "\n",
    "# Loop to get sales input for each day\n",
    "for day in days_of_week:\n",
    "    while True:\n",
    "        try:\n",
    "            sales = float(input(f\"Enter the sales for {day}: $\"))\n",
    "            if sales >= 0:\n",
    "                weekly_sales.append(sales)\n",
    "                break\n",
    "            else:\n",
    "                print(\"Input was invalid. Please enter a value greater than or equal to 0.\")\n",
    "        except ValueError:\n",
    "            print(\"Input was invalid. Please enter a valid number.\")\n",
    "\n",
    "# Calculate total sales, minimum and maximum sales\n",
    "total_sales = sum(weekly_sales)\n",
    "min_sales = min(weekly_sales)\n",
    "max_sales = max(weekly_sales)\n",
    "\n",
    "# Format the numbers with two decimal places and comma separation\n",
    "total_sales_formatted = \"${:,.2f}\".format(total_sales)\n",
    "min_sales_formatted = \"${:,.2f}\".format(min_sales)\n",
    "max_sales_formatted = \"${:,.2f}\".format(max_sales)\n",
    "\n",
    "# Print the results\n",
    "print(f\"The total sales is: {total_sales_formatted}\")\n",
    "print(f\"The minimum sale amount was: {min_sales_formatted}\")\n",
    "print(f\"The maximum sale amount was: {max_sales_formatted}\")\n"
   ]
  },
  {
   "cell_type": "markdown",
   "metadata": {},
   "source": [
    "# Forum Task 4"
   ]
  },
  {
   "cell_type": "code",
   "execution_count": 3,
   "metadata": {},
   "outputs": [
    {
     "name": "stdout",
     "output_type": "stream",
     "text": [
      "......-...-..--- .-----.-..-..-..\n"
     ]
    }
   ],
   "source": [
    "morse_code = (\n",
    "    (\" \", \" \"),\n",
    "    (\"--..--\", \",\"),\n",
    "    (\".-.-.-\", \".\"),\n",
    "    (\"..--..\", \"?\"),\n",
    "    (\".----\", \"1\"),\n",
    "    (\"..---\", \"2\"),\n",
    "    (\"...--\", \"3\"),\n",
    "    (\"....-\", \"4\"),\n",
    "    (\".....\", \"5\"),\n",
    "    (\"-....\", \"6\"),\n",
    "    (\"--...\", \"7\"),\n",
    "    (\"---..\", \"8\"),\n",
    "    (\"----.\", \"9\"),\n",
    "    (\"-----\", \"0\"),\n",
    "    (\".-\", \"A\"),\n",
    "    (\"-...\", \"B\"),\n",
    "    (\"-.-.\", \"C\"),\n",
    "    (\"-..\", \"D\"),\n",
    "    (\".\", \"E\"),\n",
    "    (\"..-.\", \"F\"),\n",
    "    (\"--.\", \"G\"),\n",
    "    (\"....\", \"H\"),\n",
    "    (\"..\", \"I\"),\n",
    "    (\".---\", \"J\"),\n",
    "    (\"-.-\", \"K\"),\n",
    "    (\".-..\", \"L\"),\n",
    "    (\"--\", \"M\"),\n",
    "    (\"-.\", \"N\"),\n",
    "    (\"---\", \"O\"),\n",
    "    (\".--.\", \"P\"),\n",
    "    (\"--.-\", \"Q\"),\n",
    "    (\".-.\", \"R\"),\n",
    "    (\"...\", \"S\"),\n",
    "    (\"-\", \"T\"),\n",
    "    (\"..-\", \"U\"),\n",
    "    (\"...-\", \"V\"),\n",
    "    (\".--\", \"W\"),\n",
    "    (\"-..-\", \"X\"),\n",
    "    (\"-.--\", \"Y\"),\n",
    "    (\"--..\", \"Z\"),\n",
    ")\n",
    "\n",
    "convert_string = input(\"Enter the string to be converted to Morse code: \")\n",
    "morse_code_text = \"\"\n",
    "\n",
    "# Iterate through the characters in the input string\n",
    "for char in convert_string.upper():\n",
    "    # Find the corresponding Morse code in the tuple\n",
    "    for code in morse_code:\n",
    "        if char == code[1]:\n",
    "            morse_code_text += code[0]\n",
    "\n",
    "print(morse_code_text)"
   ]
  }
 ],
 "metadata": {
  "kernelspec": {
   "display_name": "Python 3",
   "language": "python",
   "name": "python3"
  },
  "language_info": {
   "codemirror_mode": {
    "name": "ipython",
    "version": 3
   },
   "file_extension": ".py",
   "mimetype": "text/x-python",
   "name": "python",
   "nbconvert_exporter": "python",
   "pygments_lexer": "ipython3",
   "version": "3.11.5"
  }
 },
 "nbformat": 4,
 "nbformat_minor": 2
}
